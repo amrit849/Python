{
 "cells": [
  {
   "cell_type": "markdown",
   "metadata": {},
   "source": [
    "### Write a Python program to Collect user name and greet him/her based on the time of the day."
   ]
  },
  {
   "cell_type": "code",
   "execution_count": 3,
   "metadata": {},
   "outputs": [
    {
     "name": "stdout",
     "output_type": "stream",
     "text": [
      "Please enter your name:Kiran\n",
      "Hi Kiran, hope you are doing good. Its 2019-01-31 16:29:19.385503\n"
     ]
    }
   ],
   "source": [
    "#Write a Python program to Collect user name and greet him/her based on the time of the day.\n",
    "import datetime\n",
    "name=input(\"Please enter your name:\")\n",
    "now=datetime.datetime.now()\n",
    "print(f\"Hi {name}, hope you are doing good. Its {now}\")"
   ]
  },
  {
   "cell_type": "code",
   "execution_count": 12,
   "metadata": {},
   "outputs": [
    {
     "name": "stdout",
     "output_type": "stream",
     "text": [
      "Enter the number to find factorial of:5\n",
      "120\n"
     ]
    }
   ],
   "source": [
    "#Write a program to calculate the factorial of a given number.\n",
    "n=int(input(\"Enter the number to find factorial of:\"))\n",
    "fact=1\n",
    "if n<0:\n",
    "    print(\"negative number cannot have factorial, please put positive number\")\n",
    "elif n==0:\n",
    "    print(\"0 has factorial as 1\")\n",
    "else:\n",
    "    for i in range (1,n+1):\n",
    "        fact=fact*i \n",
    "    print (fact)"
   ]
  },
  {
   "cell_type": "code",
   "execution_count": null,
   "metadata": {},
   "outputs": [
    {
     "name": "stdout",
     "output_type": "stream",
     "text": [
      "guess number between '0-9' and if your entry is same with computer logic then you are lucky today\n",
      "guess number between '0-9':5\n",
      "its below lucky_number\n",
      "guess number between '0-9':4\n",
      "its below lucky_number\n",
      "guess number between '0-9':8\n",
      "its above lucky_number\n",
      "guess number between '0-9':6\n",
      "you are lucky today\n"
     ]
    }
   ],
   "source": [
    "import random\n",
    "n=random.randint(0,9)\n",
    "print(\"guess number between '0-9' and if your entry is same with computer logic then you are lucky today\")\n",
    "i=0\n",
    "while i<5:\n",
    "    guess=int(input(\"guess number between '0-9':\"))\n",
    "    if guess<n:\n",
    "        print(\"its below lucky_number\")\n",
    "    elif guess>n:\n",
    "        print(\"its above lucky_number\")\n",
    "    elif guess==n:\n",
    "        print(\"you are lucky today\")\n",
    "    i +=1"
   ]
  },
  {
   "cell_type": "code",
   "execution_count": 1,
   "metadata": {},
   "outputs": [
    {
     "name": "stdout",
     "output_type": "stream",
     "text": [
      "Hello World\n"
     ]
    }
   ],
   "source": [
    "print (\"Hello World\")"
   ]
  },
  {
   "cell_type": "code",
   "execution_count": 2,
   "metadata": {},
   "outputs": [
    {
     "name": "stdout",
     "output_type": "stream",
     "text": [
      "5\n"
     ]
    }
   ],
   "source": [
    "a=3+2\n",
    "print(a)"
   ]
  },
  {
   "cell_type": "markdown",
   "metadata": {},
   "source": [
    "# first program\n",
    "## h2"
   ]
  },
  {
   "cell_type": "code",
   "execution_count": 3,
   "metadata": {},
   "outputs": [
    {
     "name": "stdout",
     "output_type": "stream",
     "text": [
      "enter the 1st number:3\n",
      "enter the 2nd number:5\n",
      "sum of x and y is: 8\n"
     ]
    }
   ],
   "source": [
    "x=input(\"enter the 1st number:\")\n",
    "y=input(\"enter the 2nd number:\")\n",
    "sum=int(x) + int(y)\n",
    "print (\"sum of x and y is:\",sum)"
   ]
  },
  {
   "cell_type": "code",
   "execution_count": 4,
   "metadata": {},
   "outputs": [
    {
     "name": "stdout",
     "output_type": "stream",
     "text": [
      "enter the 1st number:2\n",
      "enter the 2nd number:7\n",
      "sum of x and y is: 9\n"
     ]
    }
   ],
   "source": [
    "x=input(\"enter the 1st number:\")\n",
    "y=input(\"enter the 2nd number:\")\n",
    "print(\"sum of x and y is:\",int(x)+int(y))"
   ]
  },
  {
   "cell_type": "code",
   "execution_count": 9,
   "metadata": {},
   "outputs": [
    {
     "name": "stdout",
     "output_type": "stream",
     "text": [
      "enter 2 numbers of your choice:5,7\n",
      "sum of the 2 entries seperated by , is:12\n"
     ]
    }
   ],
   "source": [
    "num1,num2=input(\"enter 2 numbers of your choice:\").split(\",\")\n",
    "print(f\"sum of the 2 entries seperated by , is:{int(num1)+int(num2)}\")"
   ]
  },
  {
   "cell_type": "code",
   "execution_count": 13,
   "metadata": {},
   "outputs": [
    {
     "name": "stdout",
     "output_type": "stream",
     "text": [
      "hello amrit 15\n"
     ]
    }
   ],
   "source": [
    "name= \"amrit \"\n",
    "numb=\"15\"\n",
    "print(\"hello \"+name+numb)"
   ]
  },
  {
   "cell_type": "code",
   "execution_count": 27,
   "metadata": {},
   "outputs": [
    {
     "name": "stdout",
     "output_type": "stream",
     "text": [
      "enter your name and charachter to be counted seperated by ',':Amrit Pal Singh Aulakh,   A\n",
      "length of the name is: 22 and number of times 'A' entered:4\n"
     ]
    }
   ],
   "source": [
    "name,char=input(\"enter your name and charachter to be counted seperated by ',':\").split(\",\")\n",
    "print(f\"length of the name is: {len(name)} and number of times '{char.strip()}' entered:{name.lower().count(char.strip().lower())}\")"
   ]
  },
  {
   "cell_type": "code",
   "execution_count": 31,
   "metadata": {},
   "outputs": [
    {
     "name": "stdout",
     "output_type": "stream",
     "text": [
      "Enter your name to be decorated:Amrit\n",
      "hi ####Amrit####\n"
     ]
    }
   ],
   "source": [
    "name=input(\"Enter your name to be decorated:\")\n",
    "print(f\"hi {name.center(len(name)+8,'#')}\")"
   ]
  },
  {
   "cell_type": "code",
   "execution_count": null,
   "metadata": {},
   "outputs": [],
   "source": []
  }
 ],
 "metadata": {
  "kernelspec": {
   "display_name": "Python 3",
   "language": "python",
   "name": "python3"
  },
  "language_info": {
   "codemirror_mode": {
    "name": "ipython",
    "version": 3
   },
   "file_extension": ".py",
   "mimetype": "text/x-python",
   "name": "python",
   "nbconvert_exporter": "python",
   "pygments_lexer": "ipython3",
   "version": "3.7.1"
  }
 },
 "nbformat": 4,
 "nbformat_minor": 2
}
